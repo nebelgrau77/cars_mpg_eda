{
 "cells": [
  {
   "cell_type": "code",
   "execution_count": 1,
   "metadata": {},
   "outputs": [],
   "source": [
    "import pandas as pd"
   ]
  },
  {
   "cell_type": "code",
   "execution_count": 2,
   "metadata": {},
   "outputs": [],
   "source": [
    "import matplotlib.pyplot as plt"
   ]
  },
  {
   "cell_type": "code",
   "execution_count": 3,
   "metadata": {},
   "outputs": [],
   "source": [
    "import sqlite3"
   ]
  },
  {
   "cell_type": "code",
   "execution_count": 4,
   "metadata": {},
   "outputs": [],
   "source": [
    "conn = sqlite3.connect('cars.db')"
   ]
  },
  {
   "cell_type": "code",
   "execution_count": 5,
   "metadata": {},
   "outputs": [
    {
     "data": {
      "text/plain": [
       "\u001b[0;31mType:\u001b[0m        module\n",
       "\u001b[0;31mString form:\u001b[0m <module 'sqlite3' from '/home/nebelgrau/miniconda3/envs/minimal_ds/lib/python3.7/sqlite3/__init__.py'>\n",
       "\u001b[0;31mFile:\u001b[0m        ~/miniconda3/envs/minimal_ds/lib/python3.7/sqlite3/__init__.py\n",
       "\u001b[0;31mDocstring:\u001b[0m   <no docstring>\n"
      ]
     },
     "metadata": {},
     "output_type": "display_data"
    }
   ],
   "source": [
    "sqlite3?"
   ]
  },
  {
   "cell_type": "code",
   "execution_count": 6,
   "metadata": {},
   "outputs": [],
   "source": [
    "c = conn.cursor()"
   ]
  },
  {
   "cell_type": "code",
   "execution_count": 7,
   "metadata": {},
   "outputs": [
    {
     "data": {
      "text/plain": [
       "<sqlite3.Cursor at 0x7f0de970e650>"
      ]
     },
     "execution_count": 7,
     "metadata": {},
     "output_type": "execute_result"
    }
   ],
   "source": [
    "c.execute('''SELECT * FROM cars''')"
   ]
  },
  {
   "cell_type": "code",
   "execution_count": 9,
   "metadata": {},
   "outputs": [],
   "source": [
    "conn.commit()"
   ]
  },
  {
   "cell_type": "code",
   "execution_count": 12,
   "metadata": {},
   "outputs": [
    {
     "name": "stdout",
     "output_type": "stream",
     "text": [
      "(1970, 147.82758620689654)\n",
      "(1971, 106.60714285714286)\n",
      "(1972, 120.17857142857143)\n",
      "(1973, 130.475)\n",
      "(1974, 94.25925925925925)\n",
      "(1975, 101.06666666666666)\n",
      "(1976, 101.11764705882354)\n",
      "(1977, 105.07142857142857)\n",
      "(1978, 99.69444444444444)\n",
      "(1979, 101.20689655172414)\n",
      "(1980, 77.48275862068965)\n",
      "(1981, 80.79310344827586)\n",
      "(1982, 81.3225806451613)\n"
     ]
    }
   ],
   "source": [
    "for row in c.execute('''SELECT model_year, AVG(horsepower) FROM cars GROUP BY model_year'''):\n",
    "    print(row)\n",
    "                     "
   ]
  },
  {
   "cell_type": "code",
   "execution_count": 26,
   "metadata": {},
   "outputs": [],
   "source": [
    "query = '''SELECT model_year, origin, AVG(horsepower) FROM cars GROUP BY model_year, origin'''"
   ]
  },
  {
   "cell_type": "code",
   "execution_count": 27,
   "metadata": {
    "collapsed": true,
    "jupyter": {
     "outputs_hidden": true
    }
   },
   "outputs": [
    {
     "name": "stdout",
     "output_type": "stream",
     "text": [
      "(1970, 'AMERICA', 166.95454545454547)\n",
      "(1970, 'ASIA', 91.5)\n",
      "(1970, 'EUROPE', 86.2)\n",
      "(1971, 'AMERICA', 119.84210526315789)\n",
      "(1971, 'ASIA', 82.4)\n",
      "(1971, 'EUROPE', 74.0)\n",
      "(1972, 'AMERICA', 138.77777777777777)\n",
      "(1972, 'ASIA', 93.8)\n",
      "(1972, 'EUROPE', 79.6)\n",
      "(1973, 'AMERICA', 146.6206896551724)\n",
      "(1973, 'ASIA', 98.5)\n",
      "(1973, 'EUROPE', 81.85714285714286)\n",
      "(1974, 'AMERICA', 111.0)\n",
      "(1974, 'ASIA', 72.5)\n",
      "(1974, 'EUROPE', 74.16666666666667)\n",
      "(1975, 'AMERICA', 108.7)\n",
      "(1975, 'ASIA', 80.25)\n",
      "(1975, 'EUROPE', 89.5)\n",
      "(1976, 'AMERICA', 110.5)\n",
      "(1976, 'ASIA', 76.5)\n",
      "(1976, 'EUROPE', 87.625)\n",
      "(1977, 'AMERICA', 118.38888888888889)\n",
      "(1977, 'ASIA', 81.16666666666667)\n",
      "(1977, 'EUROPE', 81.0)\n",
      "(1978, 'AMERICA', 107.27272727272727)\n",
      "(1978, 'ASIA', 79.25)\n",
      "(1978, 'EUROPE', 99.16666666666667)\n",
      "(1979, 'AMERICA', 109.43478260869566)\n",
      "(1979, 'ASIA', 65.0)\n",
      "(1979, 'EUROPE', 72.0)\n",
      "(1980, 'AMERICA', 88.83333333333333)\n",
      "(1980, 'ASIA', 78.0)\n",
      "(1980, 'EUROPE', 69.11111111111111)\n",
      "(1981, 'AMERICA', 84.53846153846153)\n",
      "(1981, 'ASIA', 78.33333333333333)\n",
      "(1981, 'EUROPE', 76.0)\n",
      "(1982, 'AMERICA', 86.2)\n",
      "(1982, 'ASIA', 74.55555555555556)\n",
      "(1982, 'EUROPE', 63.0)\n"
     ]
    }
   ],
   "source": [
    "for row in c.execute(query):\n",
    "    print(row)"
   ]
  },
  {
   "cell_type": "code",
   "execution_count": 28,
   "metadata": {},
   "outputs": [],
   "source": [
    "years = [row[0] for row in c.execute(query)]\n",
    "origin = [row[1] for row in c.execute(query)]\n",
    "values = [row[2] for row in c.execute(query)]"
   ]
  },
  {
   "cell_type": "code",
   "execution_count": null,
   "metadata": {},
   "outputs": [],
   "source": []
  },
  {
   "cell_type": "code",
   "execution_count": 36,
   "metadata": {},
   "outputs": [],
   "source": [
    "years = [item[0] for item in c.execute('''SELECT DISTINCT model_year FROM cars''')]\n",
    "values = {}\n",
    "for origin in ['EUROPE', 'ASIA', 'AMERICA']:\n",
    "    values[origin] = [row[2] for row in c.execute(query) if row[1] == origin]\n",
    "    \n"
   ]
  },
  {
   "cell_type": "code",
   "execution_count": 37,
   "metadata": {},
   "outputs": [
    {
     "data": {
      "text/plain": [
       "[1970, 1971, 1972, 1973, 1974, 1975, 1976, 1977, 1978, 1979, 1980, 1981, 1982]"
      ]
     },
     "execution_count": 37,
     "metadata": {},
     "output_type": "execute_result"
    }
   ],
   "source": [
    "years"
   ]
  },
  {
   "cell_type": "code",
   "execution_count": 66,
   "metadata": {},
   "outputs": [],
   "source": [
    "origins = {'EUROPE': ('edge', 0.2, 'r'), 'AMERICA': ('center', 0.2, 'g'), 'ASIA': ('edge', -0.2, 'b')}"
   ]
  },
  {
   "cell_type": "code",
   "execution_count": 67,
   "metadata": {},
   "outputs": [
    {
     "data": {
      "image/png": "[encoded data removed]",
      "text/plain": [
       "<Figure size 432x288 with 1 Axes>"
      ]
     },
     "metadata": {
      "needs_background": "light"
     },
     "output_type": "display_data"
    }
   ],
   "source": [
    "for origin in origins.keys():\n",
    "    plt.bar(years, values[origin], color= origins[origin][2], width = origins[origin][1], align = origins[origin][0], alpha = 0.5)"
   ]
  },
  {
   "cell_type": "code",
   "execution_count": 33,
   "metadata": {
    "collapsed": true,
    "jupyter": {
     "outputs_hidden": true
    }
   },
   "outputs": [
    {
     "data": {
      "text/plain": [
       "{'EUROPE': [86.2,\n",
       "  74.0,\n",
       "  79.6,\n",
       "  81.85714285714286,\n",
       "  74.16666666666667,\n",
       "  89.5,\n",
       "  87.625,\n",
       "  81.0,\n",
       "  99.16666666666667,\n",
       "  72.0,\n",
       "  69.11111111111111,\n",
       "  76.0,\n",
       "  63.0],\n",
       " 'ASIA': [91.5,\n",
       "  82.4,\n",
       "  93.8,\n",
       "  98.5,\n",
       "  72.5,\n",
       "  80.25,\n",
       "  76.5,\n",
       "  81.16666666666667,\n",
       "  79.25,\n",
       "  65.0,\n",
       "  78.0,\n",
       "  78.33333333333333,\n",
       "  74.55555555555556],\n",
       " 'AMERICA': [166.95454545454547,\n",
       "  119.84210526315789,\n",
       "  138.77777777777777,\n",
       "  146.6206896551724,\n",
       "  111.0,\n",
       "  108.7,\n",
       "  110.5,\n",
       "  118.38888888888889,\n",
       "  107.27272727272727,\n",
       "  109.43478260869566,\n",
       "  88.83333333333333,\n",
       "  84.53846153846153,\n",
       "  86.2]}"
      ]
     },
     "execution_count": 33,
     "metadata": {},
     "output_type": "execute_result"
    }
   ],
   "source": [
    "values"
   ]
  },
  {
   "cell_type": "code",
   "execution_count": 29,
   "metadata": {},
   "outputs": [
    {
     "data": {
      "text/plain": [
       "<BarContainer object of 39 artists>"
      ]
     },
     "execution_count": 29,
     "metadata": {},
     "output_type": "execute_result"
    },
    {
     "data": {
      "image/png": "[encoded data removed]",
      "text/plain": [
       "<Figure size 432x288 with 1 Axes>"
      ]
     },
     "metadata": {
      "needs_background": "light"
     },
     "output_type": "display_data"
    }
   ],
   "source": [
    "plt.bar(years, values)"
   ]
  },
  {
   "cell_type": "code",
   "execution_count": 17,
   "metadata": {},
   "outputs": [
    {
     "data": {
      "text/plain": [
       "Text(0.5, 1.0, 'average horsepower')"
      ]
     },
     "execution_count": 17,
     "metadata": {},
     "output_type": "execute_result"
    },
    {
     "data": {
      "image/png": "[encoded data removed]",
      "text/plain": [
       "<Figure size 864x576 with 1 Axes>"
      ]
     },
     "metadata": {
      "needs_background": "light"
     },
     "output_type": "display_data"
    }
   ],
   "source": [
    "fig, ax = plt.subplots(figsize = (12, 8))\n",
    "ax.bar(years, values)\n",
    "ax.set_title('average horsepower')\n"
   ]
  },
  {
   "cell_type": "code",
   "execution_count": 20,
   "metadata": {},
   "outputs": [
    {
     "data": {
      "text/plain": [
       "Text(0.5, 1.0, 'average horsepower')"
      ]
     },
     "execution_count": 20,
     "metadata": {},
     "output_type": "execute_result"
    },
    {
     "data": {
      "image/png": "[encoded data removed]",
      "text/plain": [
       "<Figure size 432x288 with 1 Axes>"
      ]
     },
     "metadata": {
      "needs_background": "light"
     },
     "output_type": "display_data"
    }
   ],
   "source": [
    "plt.bar(years, values, color = 'g', alpha = 0.5)\n",
    "plt.title('average horsepower')"
   ]
  },
  {
   "cell_type": "code",
   "execution_count": 61,
   "metadata": {},
   "outputs": [
    {
     "data": {
      "text/plain": [
       "\u001b[0;31mSignature:\u001b[0m\n",
       "\u001b[0mplt\u001b[0m\u001b[0;34m.\u001b[0m\u001b[0mbar\u001b[0m\u001b[0;34m(\u001b[0m\u001b[0;34m\u001b[0m\n",
       "\u001b[0;34m\u001b[0m    \u001b[0mx\u001b[0m\u001b[0;34m,\u001b[0m\u001b[0;34m\u001b[0m\n",
       "\u001b[0;34m\u001b[0m    \u001b[0mheight\u001b[0m\u001b[0;34m,\u001b[0m\u001b[0;34m\u001b[0m\n",
       "\u001b[0;34m\u001b[0m    \u001b[0mwidth\u001b[0m\u001b[0;34m=\u001b[0m\u001b[0;36m0.8\u001b[0m\u001b[0;34m,\u001b[0m\u001b[0;34m\u001b[0m\n",
       "\u001b[0;34m\u001b[0m    \u001b[0mbottom\u001b[0m\u001b[0;34m=\u001b[0m\u001b[0;32mNone\u001b[0m\u001b[0;34m,\u001b[0m\u001b[0;34m\u001b[0m\n",
       "\u001b[0;34m\u001b[0m    \u001b[0;34m*\u001b[0m\u001b[0;34m,\u001b[0m\u001b[0;34m\u001b[0m\n",
       "\u001b[0;34m\u001b[0m    \u001b[0malign\u001b[0m\u001b[0;34m=\u001b[0m\u001b[0;34m'center'\u001b[0m\u001b[0;34m,\u001b[0m\u001b[0;34m\u001b[0m\n",
       "\u001b[0;34m\u001b[0m    \u001b[0mdata\u001b[0m\u001b[0;34m=\u001b[0m\u001b[0;32mNone\u001b[0m\u001b[0;34m,\u001b[0m\u001b[0;34m\u001b[0m\n",
       "\u001b[0;34m\u001b[0m    \u001b[0;34m**\u001b[0m\u001b[0mkwargs\u001b[0m\u001b[0;34m,\u001b[0m\u001b[0;34m\u001b[0m\n",
       "\u001b[0;34m\u001b[0m\u001b[0;34m)\u001b[0m\u001b[0;34m\u001b[0m\u001b[0;34m\u001b[0m\u001b[0m\n",
       "\u001b[0;31mDocstring:\u001b[0m\n",
       "Make a bar plot.\n",
       "\n",
       "The bars are positioned at *x* with the given *align*\\ment. Their\n",
       "dimensions are given by *width* and *height*. The vertical baseline\n",
       "is *bottom* (default 0).\n",
       "\n",
       "Each of *x*, *height*, *width*, and *bottom* may either be a scalar\n",
       "applying to all bars, or it may be a sequence of length N providing a\n",
       "separate value for each bar.\n",
       "\n",
       "Parameters\n",
       "----------\n",
       "x : sequence of scalars\n",
       "    The x coordinates of the bars. See also *align* for the\n",
       "    alignment of the bars to the coordinates.\n",
       "\n",
       "height : scalar or sequence of scalars\n",
       "    The height(s) of the bars.\n",
       "\n",
       "width : scalar or array-like, optional\n",
       "    The width(s) of the bars (default: 0.8).\n",
       "\n",
       "bottom : scalar or array-like, optional\n",
       "    The y coordinate(s) of the bars bases (default: 0).\n",
       "\n",
       "align : {'center', 'edge'}, optional, default: 'center'\n",
       "    Alignment of the bars to the *x* coordinates:\n",
       "\n",
       "    - 'center': Center the base on the *x* positions.\n",
       "    - 'edge': Align the left edges of the bars with the *x* positions.\n",
       "\n",
       "    To align the bars on the right edge pass a negative *width* and\n",
       "    ``align='edge'``.\n",
       "\n",
       "Returns\n",
       "-------\n",
       "container : `.BarContainer`\n",
       "    Container with all the bars and optionally errorbars.\n",
       "\n",
       "Other Parameters\n",
       "----------------\n",
       "color : scalar or array-like, optional\n",
       "    The colors of the bar faces.\n",
       "\n",
       "edgecolor : scalar or array-like, optional\n",
       "    The colors of the bar edges.\n",
       "\n",
       "linewidth : scalar or array-like, optional\n",
       "    Width of the bar edge(s). If 0, don't draw edges.\n",
       "\n",
       "tick_label : string or array-like, optional\n",
       "    The tick labels of the bars.\n",
       "    Default: None (Use default numeric labels.)\n",
       "\n",
       "xerr, yerr : scalar or array-like of shape(N,) or shape(2,N), optional\n",
       "    If not *None*, add horizontal / vertical errorbars to the bar tips.\n",
       "    The values are +/- sizes relative to the data:\n",
       "\n",
       "    - scalar: symmetric +/- values for all bars\n",
       "    - shape(N,): symmetric +/- values for each bar\n",
       "    - shape(2,N): Separate - and + values for each bar. First row\n",
       "        contains the lower errors, the second row contains the\n",
       "        upper errors.\n",
       "    - *None*: No errorbar. (Default)\n",
       "\n",
       "    See :doc:`/gallery/statistics/errorbar_features`\n",
       "    for an example on the usage of ``xerr`` and ``yerr``.\n",
       "\n",
       "ecolor : scalar or array-like, optional, default: 'black'\n",
       "    The line color of the errorbars.\n",
       "\n",
       "capsize : scalar, optional\n",
       "   The length of the error bar caps in points.\n",
       "   Default: None, which will take the value from\n",
       "   :rc:`errorbar.capsize`.\n",
       "\n",
       "error_kw : dict, optional\n",
       "    Dictionary of kwargs to be passed to the `~.Axes.errorbar`\n",
       "    method. Values of *ecolor* or *capsize* defined here take\n",
       "    precedence over the independent kwargs.\n",
       "\n",
       "log : bool, optional, default: False\n",
       "    If *True*, set the y-axis to be log scale.\n",
       "\n",
       "orientation : {'vertical',  'horizontal'}, optional\n",
       "    *This is for internal use only.* Please use `barh` for\n",
       "    horizontal bar plots. Default: 'vertical'.\n",
       "\n",
       "See also\n",
       "--------\n",
       "barh: Plot a horizontal bar plot.\n",
       "\n",
       "Notes\n",
       "-----\n",
       "The optional arguments *color*, *edgecolor*, *linewidth*,\n",
       "*xerr*, and *yerr* can be either scalars or sequences of\n",
       "length equal to the number of bars.  This enables you to use\n",
       "bar as the basis for stacked bar charts, or candlestick plots.\n",
       "Detail: *xerr* and *yerr* are passed directly to\n",
       ":meth:`errorbar`, so they can also have shape 2xN for\n",
       "independent specification of lower and upper errors.\n",
       "\n",
       "Other optional kwargs:\n",
       "\n",
       "  agg_filter: a filter function, which takes a (m, n, 3) float array and a dpi value, and returns a (m, n, 3) array\n",
       "  alpha: float or None\n",
       "  animated: bool\n",
       "  antialiased or aa: unknown\n",
       "  capstyle: {'butt', 'round', 'projecting'}\n",
       "  clip_box: `.Bbox`\n",
       "  clip_on: bool\n",
       "  clip_path: [(`~matplotlib.path.Path`, `.Transform`) | `.Patch` | None]\n",
       "  color: color\n",
       "  contains: callable\n",
       "  edgecolor or ec: color or None or 'auto'\n",
       "  facecolor or fc: color or None\n",
       "  figure: `.Figure`\n",
       "  fill: bool\n",
       "  gid: str\n",
       "  hatch: {'/', '\\\\', '|', '-', '+', 'x', 'o', 'O', '.', '*'}\n",
       "  in_layout: bool\n",
       "  joinstyle: {'miter', 'round', 'bevel'}\n",
       "  label: object\n",
       "  linestyle or ls: {'-', '--', '-.', ':', '', (offset, on-off-seq), ...}\n",
       "  linewidth or lw: float or None\n",
       "  path_effects: `.AbstractPathEffect`\n",
       "  picker: None or bool or float or callable\n",
       "  rasterized: bool or None\n",
       "  sketch_params: (scale: float, length: float, randomness: float)\n",
       "  snap: bool or None\n",
       "  transform: `.Transform`\n",
       "  url: str\n",
       "  visible: bool\n",
       "  zorder: float\n",
       "\n",
       ".. note::\n",
       "    In addition to the above described arguments, this function can take a\n",
       "    **data** keyword argument. If such a **data** argument is given, the\n",
       "    following arguments are replaced by **data[<arg>]**:\n",
       "\n",
       "    * All positional and all keyword arguments.\n",
       "\n",
       "    Objects passed as **data** must support item access (``data[<arg>]``) and\n",
       "    membership test (``<arg> in data``).\n",
       "\u001b[0;31mFile:\u001b[0m      ~/miniconda3/envs/minimal_ds/lib/python3.7/site-packages/matplotlib/pyplot.py\n",
       "\u001b[0;31mType:\u001b[0m      function\n"
      ]
     },
     "metadata": {},
     "output_type": "display_data"
    }
   ],
   "source": [
    "plt.bar?"
   ]
  },
  {
   "cell_type": "code",
   "execution_count": 49,
   "metadata": {},
   "outputs": [],
   "source": [
    "brands = sorted([item[0] for item in c.execute('''SELECT DISTINCT brand FROM cars''')])"
   ]
  },
  {
   "cell_type": "code",
   "execution_count": 53,
   "metadata": {
    "collapsed": true,
    "jupyter": {
     "outputs_hidden": true
    }
   },
   "outputs": [
    {
     "data": {
      "text/plain": [
       "[(3,\n",
       "  'AMC',\n",
       "  'REBEL SST',\n",
       "  1970,\n",
       "  'AMERICA',\n",
       "  8,\n",
       "  4981.667455999999,\n",
       "  150.0,\n",
       "  12.0,\n",
       "  1557.1826062100001,\n",
       "  14.6875),\n",
       " (9,\n",
       "  'AMC',\n",
       "  'AMBASSADOR DPL',\n",
       "  1970,\n",
       "  'AMERICA',\n",
       "  8,\n",
       "  6390.954959999999,\n",
       "  190.0,\n",
       "  8.5,\n",
       "  1746.3306245,\n",
       "  15.666666666666666),\n",
       " (16,\n",
       "  'AMC',\n",
       "  'HORNET',\n",
       "  1970,\n",
       "  'AMERICA',\n",
       "  6,\n",
       "  3261.0257359999996,\n",
       "  97.0,\n",
       "  15.5,\n",
       "  1258.26523438,\n",
       "  13.055555555555555),\n",
       " (24,\n",
       "  'AMC',\n",
       "  'GREMLIN',\n",
       "  1970,\n",
       "  'AMERICA',\n",
       "  6,\n",
       "  3261.0257359999996,\n",
       "  90.0,\n",
       "  15.0,\n",
       "  1201.11259576,\n",
       "  11.19047619047619),\n",
       " (33,\n",
       "  'AMC',\n",
       "  'GREMLIN',\n",
       "  1971,\n",
       "  'AMERICA',\n",
       "  6,\n",
       "  3801.798848,\n",
       "  100.0,\n",
       "  13.0,\n",
       "  1194.76230258,\n",
       "  12.368421052631579),\n",
       " (37,\n",
       "  'AMC',\n",
       "  'MATADOR',\n",
       "  1971,\n",
       "  'AMERICA',\n",
       "  6,\n",
       "  3801.798848,\n",
       "  100.0,\n",
       "  15.5,\n",
       "  1491.41171256,\n",
       "  13.055555555555555),\n",
       " (45,\n",
       "  'AMC',\n",
       "  'HORNET SPORTABOUT (SW)',\n",
       "  1971,\n",
       "  'AMERICA',\n",
       "  6,\n",
       "  4227.862512,\n",
       "  110.0,\n",
       "  13.5,\n",
       "  1343.54059994,\n",
       "  13.055555555555555),\n",
       " (66,\n",
       "  'AMC',\n",
       "  'AMBASSADOR SST',\n",
       "  1972,\n",
       "  'AMERICA',\n",
       "  8,\n",
       "  4981.667455999999,\n",
       "  150.0,\n",
       "  11.5,\n",
       "  1665.5911826400002,\n",
       "  13.823529411764707),\n",
       " (72,\n",
       "  'AMC',\n",
       "  'MATADOR (SW)',\n",
       "  1972,\n",
       "  'AMERICA',\n",
       "  8,\n",
       "  4981.667455999999,\n",
       "  150.0,\n",
       "  12.5,\n",
       "  1765.38150404,\n",
       "  15.666666666666666),\n",
       " (86,\n",
       "  'AMC',\n",
       "  'MATADOR',\n",
       "  1973,\n",
       "  'AMERICA',\n",
       "  8,\n",
       "  4981.667455999999,\n",
       "  150.0,\n",
       "  11.5,\n",
       "  1665.5911826400002,\n",
       "  16.785714285714285),\n",
       " (96,\n",
       "  'AMC',\n",
       "  'AMBASSADOR BROUGHAM',\n",
       "  1973,\n",
       "  'AMERICA',\n",
       "  8,\n",
       "  5899.34304,\n",
       "  175.0,\n",
       "  11.0,\n",
       "  1733.17644577,\n",
       "  18.076923076923077),\n",
       " (99,\n",
       "  'AMC',\n",
       "  'HORNET',\n",
       "  1973,\n",
       "  'AMERICA',\n",
       "  6,\n",
       "  3801.798848,\n",
       "  100.0,\n",
       "  16.0,\n",
       "  1335.82952965,\n",
       "  13.055555555555555),\n",
       " (107,\n",
       "  'AMC',\n",
       "  'GREMLIN',\n",
       "  1973,\n",
       "  'AMERICA',\n",
       "  6,\n",
       "  3801.798848,\n",
       "  100.0,\n",
       "  15.0,\n",
       "  1265.0691199300002,\n",
       "  13.055555555555555),\n",
       " (127,\n",
       "  'AMC',\n",
       "  'HORNET',\n",
       "  1974,\n",
       "  'AMERICA',\n",
       "  6,\n",
       "  3801.798848,\n",
       "  100.0,\n",
       "  16.0,\n",
       "  1315.8714653700001,\n",
       "  12.368421052631579),\n",
       " (134,\n",
       "  'AMC',\n",
       "  'MATADOR',\n",
       "  1974,\n",
       "  'AMERICA',\n",
       "  6,\n",
       "  4227.862512,\n",
       "  110.0,\n",
       "  18.0,\n",
       "  1647.4474878400001,\n",
       "  14.6875),\n",
       " (140,\n",
       "  'AMC',\n",
       "  'MATADOR (SW)',\n",
       "  1974,\n",
       "  'AMERICA',\n",
       "  8,\n",
       "  4981.667455999999,\n",
       "  150.0,\n",
       "  15.5,\n",
       "  1930.94271909,\n",
       "  16.785714285714285),\n",
       " (162,\n",
       "  'AMC',\n",
       "  'MATADOR',\n",
       "  1975,\n",
       "  'AMERICA',\n",
       "  6,\n",
       "  4227.862512,\n",
       "  110.0,\n",
       "  19.0,\n",
       "  1691.8995401000002,\n",
       "  15.666666666666666),\n",
       " (169,\n",
       "  'AMC',\n",
       "  'GREMLIN',\n",
       "  1975,\n",
       "  'AMERICA',\n",
       "  6,\n",
       "  3801.798848,\n",
       "  100.0,\n",
       "  16.0,\n",
       "  1321.76816618,\n",
       "  11.75),\n",
       " (176,\n",
       "  'AMC',\n",
       "  'PACER',\n",
       "  1975,\n",
       "  'AMERICA',\n",
       "  6,\n",
       "  3801.798848,\n",
       "  90.0,\n",
       "  17.0,\n",
       "  1456.48510007,\n",
       "  12.368421052631579),\n",
       " (189,\n",
       "  'AMC',\n",
       "  'MATADOR',\n",
       "  1976,\n",
       "  'AMERICA',\n",
       "  8,\n",
       "  4981.667455999999,\n",
       "  120.0,\n",
       "  13.9,\n",
       "  1797.13296994,\n",
       "  15.161290322580646),\n",
       " (194,\n",
       "  'AMC',\n",
       "  'HORNET',\n",
       "  1976,\n",
       "  'AMERICA',\n",
       "  6,\n",
       "  3801.798848,\n",
       "  90.0,\n",
       "  17.6,\n",
       "  1399.33246145,\n",
       "  10.444444444444445),\n",
       " (202,\n",
       "  'AMC',\n",
       "  'PACER D/L',\n",
       "  1976,\n",
       "  'AMERICA',\n",
       "  6,\n",
       "  4227.862512,\n",
       "  95.0,\n",
       "  17.8,\n",
       "  1448.32043741,\n",
       "  13.428571428571429),\n",
       " (257,\n",
       "  'AMC',\n",
       "  'CONCORD',\n",
       "  1978,\n",
       "  'AMERICA',\n",
       "  6,\n",
       "  3801.798848,\n",
       "  90.0,\n",
       "  17.2,\n",
       "  1456.0315077,\n",
       "  12.113402061855671),\n",
       " (261,\n",
       "  'AMC',\n",
       "  'CONCORD D/L',\n",
       "  1978,\n",
       "  'AMERICA',\n",
       "  6,\n",
       "  4227.862512,\n",
       "  120.0,\n",
       "  15.1,\n",
       "  1546.7499817,\n",
       "  12.983425414364639),\n",
       " (283,\n",
       "  'AMC',\n",
       "  'CONCORD DL 6',\n",
       "  1979,\n",
       "  'AMERICA',\n",
       "  6,\n",
       "  3801.798848,\n",
       "  90.0,\n",
       "  18.2,\n",
       "  1480.97908805,\n",
       "  11.633663366336634),\n",
       " (296,\n",
       "  'AMC',\n",
       "  'SPIRIT DL',\n",
       "  1979,\n",
       "  'AMERICA',\n",
       "  4,\n",
       "  1982.8347439999998,\n",
       "  80.0,\n",
       "  15.0,\n",
       "  1211.0916279,\n",
       "  8.576642335766424),\n",
       " (315,\n",
       "  'AMC',\n",
       "  'CONCORD',\n",
       "  1980,\n",
       "  'AMERICA',\n",
       "  4,\n",
       "  2474.4466639999996,\n",
       "  90.0,\n",
       "  20.1,\n",
       "  1362.13788711,\n",
       "  9.670781893004115)]"
      ]
     },
     "execution_count": 53,
     "metadata": {},
     "output_type": "execute_result"
    }
   ],
   "source": [
    "[item for item in c.execute('''SELECT * FROM cars WHERE brand = \"{}\"'''.format(brands[0]))]"
   ]
  },
  {
   "cell_type": "code",
   "execution_count": null,
   "metadata": {},
   "outputs": [],
   "source": []
  }
 ],
 "metadata": {
  "kernelspec": {
   "display_name": "Python 3",
   "language": "python",
   "name": "python3"
  },
  "language_info": {
   "codemirror_mode": {
    "name": "ipython",
    "version": 3
   },
   "file_extension": ".py",
   "mimetype": "text/x-python",
   "name": "python",
   "nbconvert_exporter": "python",
   "pygments_lexer": "ipython3",
   "version": "3.7.6"
  }
 },
 "nbformat": 4,
 "nbformat_minor": 4
}
